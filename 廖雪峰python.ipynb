{
 "cells": [
  {
   "cell_type": "markdown",
   "metadata": {},
   "source": [
    "<p style=\"font-family: Arial; font-size:1.75em;color:purple; font-style:bold\"><br>\n",
    "廖雪峰——Python\n",
    "</p>\n",
    "\n",
    "[教程地址](https://www.liaoxuefeng.com/wiki/1016959663602400)"
   ]
  },
  {
   "cell_type": "markdown",
   "metadata": {},
   "source": [
    "# python基础"
   ]
  },
  {
   "cell_type": "markdown",
   "metadata": {},
   "source": [
    "\n",
    "* 许多大型网站就是用Python开发的，例如YouTube、Instagram，还有国内的豆瓣。 \n",
    "* Python程序是大小写敏感的。<br>  \n",
    "* `print()`会依次打印每个字符串，遇到逗号“,”则会输出一个空格。\n",
    "* Python允许在数字中间以_分隔，因此，`10_000_000_000`和`10000000000`是完全一样的。\n",
    "* 十六进制用`0x`前缀和`0-9`，`a-f`表示。例如：0xff00，0xa5b4c3d2，等等。\n",
    "* 空值是Python里一个特殊的值，用`None`表示。"
   ]
  },
  {
   "cell_type": "markdown",
   "metadata": {},
   "source": [
    "**转义字符`\\`可以转义很多字符,比如`\\n`表示换行，`\\t`表示制表符。Python还允许用`r''`表示引号内部的字符串默认不转义。**"
   ]
  },
  {
   "cell_type": "code",
   "execution_count": null,
   "metadata": {},
   "outputs": [],
   "source": [
    "print('I\\'m learning\\nPython.')"
   ]
  },
  {
   "cell_type": "code",
   "execution_count": null,
   "metadata": {},
   "outputs": [],
   "source": [
    "print('\\\\\\t\\\\')\n",
    "\n",
    "print(r'\\\\\\t\\\\')"
   ]
  },
  {
   "cell_type": "markdown",
   "metadata": {},
   "source": [
    "**ASCII编码：** 只有127个字符，也就是大小写英文字母、数字和一些符号。<br>\n",
    "**Unicode字符集：** 最常用的是UCS-16编码，用两个字节表示一个字符。<br>\n",
    "\n",
    "本着节约的精神，又出现了**UTF-8编码**。<br>\n",
    "UTF-8编码把一个Unicode字符根据不同的数字大小编码成1-6个字节，常用的英文字母被编码成1个字节，汉字通常是3个字节，只有很生僻的字符才会被编码成4-6个字节。如果你要传输的文本包含大量英文字符，用UTF-8编码就能节省空间。<br>\n",
    "\n",
    "如果从网络或磁盘上读取了字节流，那么读到的数据就是bytes。要把bytes变为str，就需要用**`decode()`**方法。\n",
    "\n",
    "\n",
    "当Python解释器读取源代码时，为了让它按UTF-8编码读取，我们通常在文件开头写上这两行：\n",
    "```\n",
    "#!/usr/bin/env python3\n",
    "# -*- coding: utf-8 -*-\n",
    "```\n",
    "\n",
    "\n"
   ]
  },
  {
   "cell_type": "code",
   "execution_count": null,
   "metadata": {},
   "outputs": [],
   "source": [
    "#把bytes变成string\n",
    "\n",
    "b'\\xe4\\xb8\\xad\\xe6\\x96\\x87'.decode('utf-8')"
   ]
  },
  {
   "cell_type": "markdown",
   "metadata": {},
   "source": [
    "## 格式化\n",
    "Python中可用 `%`实现格式化。<br>\n",
    "在字符串内部，`%s`表示用字符串替换，`%d`表示用整数替换，`%f`表示用浮点数替换。<br>\n",
    "\n",
    "另一种格式化字符串的方法是使用字符串的`format()`方法。它会用传入的参数依次替换字符串内的占位符`{0}`、`{1}`...\n",
    "\n",
    "\n",
    "最后一种格式化字符串的方法是使用以`f`开头的字符串，称之为`f-string`。<br>\n",
    "字符串如果包含`{xxx}`，就会以对应的变量替换。"
   ]
  },
  {
   "cell_type": "code",
   "execution_count": 18,
   "metadata": {},
   "outputs": [
    {
     "name": "stdout",
     "output_type": "stream",
     "text": [
      " 3-01\n",
      "3.14\n"
     ]
    }
   ],
   "source": [
    "print( '%.2f' % 3.1415926 )\n",
    "\n",
    "print( 'Hello, %s' % 'world' )\n",
    "\n",
    "print( 'Hi, %s, you earn $%d.' % ('Judy', 100) ) "
   ]
  },
  {
   "cell_type": "code",
   "execution_count": 22,
   "metadata": {},
   "outputs": [
    {
     "name": "stdout",
     "output_type": "stream",
     "text": [
      "Hello, 小明, 你的成绩提升了 17.4%\n"
     ]
    }
   ],
   "source": [
    "print( 'Hello, {0}, 你的成绩提升了 {1:.1f}%'.format('小明', 17.45) )"
   ]
  },
  {
   "cell_type": "code",
   "execution_count": 23,
   "metadata": {},
   "outputs": [
    {
     "name": "stdout",
     "output_type": "stream",
     "text": [
      "The area of a circle with radius 2.5 is 19.62\n"
     ]
    }
   ],
   "source": [
    "r = 2.5\n",
    "s = 3.14 * r ** 2\n",
    "print(f'The area of a circle with radius {r} is {s:.2f}')"
   ]
  },
  {
   "cell_type": "markdown",
   "metadata": {},
   "source": [
    "## list\n",
    "**list** 是一种有序的集合，可以随时添加和删除其中的元素。<br>\n",
    "\n",
    "`len()`函数可以获得list元素的个数。 <br>\n",
    "用索引来访问list中每一个位置的元素，用`-1`做索引，可以直接获取最后一个元素。<br>\n",
    "\n",
    "list里面的元素的数据类型可以不同，list元素也可以是另一个list。  \n",
    "\n",
    "`sort()`函数可对list排序。"
   ]
  },
  {
   "cell_type": "code",
   "execution_count": 26,
   "metadata": {},
   "outputs": [
    {
     "name": "stdout",
     "output_type": "stream",
     "text": [
      "T\n",
      "M\n"
     ]
    }
   ],
   "source": [
    "letter = ['M', 'B', 'T']\n",
    "\n",
    "#获取list中的元素\n",
    "print( letter[-1] )\n",
    "print( letter[0] )"
   ]
  },
  {
   "cell_type": "code",
   "execution_count": 28,
   "metadata": {},
   "outputs": [
    {
     "data": {
      "text/plain": [
       "['M', 'B', 'T', 'A', 'A']"
      ]
     },
     "execution_count": 28,
     "metadata": {},
     "output_type": "execute_result"
    }
   ],
   "source": [
    "letter = ['M', 'B', 'T']\n",
    "\n",
    "#追加元素到list末尾\n",
    "letter.append('A')\n",
    "\n",
    "#把元素插入到指定的索引位置\n",
    "letter.insert(0, 'J')\n",
    "\n",
    "#删除list末尾的元素\n",
    "letter.pop()\n",
    "\n",
    "#删除指定索引位置的元素\n",
    "letter.pop(-1)\n",
    "\n",
    "#把某个元素替换成别的元素\n",
    "letter[2] = 'S'\n"
   ]
  },
  {
   "cell_type": "code",
   "execution_count": 28,
   "metadata": {},
   "outputs": [
    {
     "data": {
      "text/plain": [
       "['a', 'a', 'b', 'c', 'g']"
      ]
     },
     "execution_count": 28,
     "metadata": {},
     "output_type": "execute_result"
    }
   ],
   "source": [
    "a = ['c', 'b', 'a', 'g', 'a']\n",
    "a.sort()\n",
    "a"
   ]
  },
  {
   "cell_type": "markdown",
   "metadata": {},
   "source": [
    "## tuple\n",
    "\n",
    "tuple和list非常类似，但是tuple一旦初始化就不能修改。    \n",
    "tuple也没有`append()`，`insert()`这样的函数"
   ]
  },
  {
   "cell_type": "code",
   "execution_count": 3,
   "metadata": {},
   "outputs": [
    {
     "name": "stdout",
     "output_type": "stream",
     "text": [
      "Joe\n"
     ]
    }
   ],
   "source": [
    "#提取tuple中的元素\n",
    "\n",
    "name = ('kelly', 'Zoey', 'Joe')\n",
    "print(  name[-1] )"
   ]
  },
  {
   "cell_type": "code",
   "execution_count": 4,
   "metadata": {},
   "outputs": [
    {
     "data": {
      "text/plain": [
       "('a', 'b', ['X', 'Y'])"
      ]
     },
     "execution_count": 4,
     "metadata": {},
     "output_type": "execute_result"
    }
   ],
   "source": [
    "#tuple的每个元素，指向永远不变；但是指向的这个元素本身是可变的。\n",
    "\n",
    "t = ('a', 'b', ['A', 'B'])\n",
    "t[2][0] = 'X'\n",
    "t[2][1] = 'Y'\n",
    "t"
   ]
  },
  {
   "cell_type": "markdown",
   "metadata": {},
   "source": [
    "## 条件判断if\n",
    "```\n",
    "if <条件判断1>:\n",
    "    <执行1>\n",
    "elif <条件判断2>:\n",
    "    <执行2>\n",
    "elif <条件判断3>:\n",
    "    <执行3>\n",
    "else:\n",
    "    <执行4>\n",
    "```"
   ]
  },
  {
   "cell_type": "markdown",
   "metadata": {},
   "source": [
    "## 循坏\n",
    "* for...in...循环：依次把list或tuple中的每个元素迭代出来\n",
    "* `range()`函数可以生成一个整数序列\n",
    "* while循环，只要条件满足，就不断循环，条件不满足时退出循环\n",
    "* `break`语句可以提前退出循环。\n",
    "* `continue`语句，跳过当前的这次循环，直接开始下一次循环。\n"
   ]
  },
  {
   "cell_type": "code",
   "execution_count": null,
   "metadata": {},
   "outputs": [],
   "source": [
    "letter = ['M', 'B', 'T']\n",
    "for i in letter:\n",
    "    print(i)"
   ]
  },
  {
   "cell_type": "code",
   "execution_count": 13,
   "metadata": {},
   "outputs": [
    {
     "name": "stdout",
     "output_type": "stream",
     "text": [
      "5050\n"
     ]
    }
   ],
   "source": [
    "sum = 0\n",
    "for x in range(101):\n",
    "    sum = sum + x\n",
    "print(sum)"
   ]
  },
  {
   "cell_type": "code",
   "execution_count": 14,
   "metadata": {},
   "outputs": [
    {
     "name": "stdout",
     "output_type": "stream",
     "text": [
      "1\n",
      "3\n",
      "5\n",
      "7\n",
      "9\n"
     ]
    }
   ],
   "source": [
    "#打印出1-10之间的奇数\n",
    "\n",
    "n = 0\n",
    "while n < 10:\n",
    "    n = n + 1\n",
    "    if n % 2 == 0: # 如果n是偶数，执行continue语句\n",
    "        continue # continue语句会直接继续下一轮循环，后续的print()语句不会执行\n",
    "    print(n)"
   ]
  },
  {
   "cell_type": "markdown",
   "metadata": {},
   "source": [
    "## dict\n",
    "\n",
    "* dict字典，在其他语言中也称为map，使用键-值（key-value）存储，具有极快的查找速度。\n",
    "* dict的key必须是不可变对象，字符串、整数可以作为key，list是可变的，不能作为key。\n",
    "* 一个key只能对应一个value\n",
    "* dict是无序的\n",
    "* 通过`in`判断key是否存在\n",
    "* `get()`方法，获取key对应的value，如果key不存在，可以返回指定的value\n",
    "* 用`pop(key)`方法删除一个键值对"
   ]
  },
  {
   "cell_type": "code",
   "execution_count": 29,
   "metadata": {},
   "outputs": [
    {
     "data": {
      "text/plain": [
       "75"
      ]
     },
     "execution_count": 29,
     "metadata": {},
     "output_type": "execute_result"
    }
   ],
   "source": [
    "d = {'May': 95, 'Bob': 75, 'Tracy': 85}\n",
    "\n",
    "#插入新的键值对\n",
    "d['Chloe'] = 67\n",
    "\n",
    "#通过in判断key是否存在\n",
    "'Thomas' in d\n",
    "\n",
    "#get()方法\n",
    "d.get('May',-1)\n",
    "d.get('Joe',-1)\n",
    "\n",
    "#pop(key)方法\n",
    "d.pop('Bob')\n",
    "\n"
   ]
  },
  {
   "cell_type": "markdown",
   "metadata": {},
   "source": [
    "## set\n",
    "* set和dict类似，也是一组key的集合，但不存储value。\n",
    "* 和dict一样，在set中，没有重复的key。且同样不可以放入可变对象。\n",
    "* set可以看成数学意义上的无序和无重复元素的集合。两个set可以做数学意义上的交集、并集等操作。\n",
    "* 通过`add(key)`方法可以添加元素到set中。\n",
    "* 通过`remove(key)`方法可以删除元素.\n"
   ]
  },
  {
   "cell_type": "code",
   "execution_count": 23,
   "metadata": {},
   "outputs": [
    {
     "data": {
      "text/plain": [
       "{1, 3, 9}"
      ]
     },
     "execution_count": 23,
     "metadata": {},
     "output_type": "execute_result"
    }
   ],
   "source": [
    "#重复元素在set中自动被过滤\n",
    "s = set([1, 1, 2, 2, 3, 3])\n",
    "\n",
    "#添加元素\n",
    "s.add(9)\n",
    "\n",
    "#删除元素\n",
    "s.remove(2)\n",
    "\n",
    "print( s )"
   ]
  },
  {
   "cell_type": "code",
   "execution_count": 24,
   "metadata": {},
   "outputs": [
    {
     "data": {
      "text/plain": [
       "{3}"
      ]
     },
     "execution_count": 24,
     "metadata": {},
     "output_type": "execute_result"
    }
   ],
   "source": [
    "s1 = set([1, 3, 5])\n",
    "s2 = set([2, 3, 4, 6])\n",
    "\n",
    "#并集\n",
    "s1 | s2\n",
    "\n",
    "#交集\n",
    "s1 & s2"
   ]
  },
  {
   "cell_type": "markdown",
   "metadata": {},
   "source": [
    "# 函数"
   ]
  },
  {
   "cell_type": "markdown",
   "metadata": {},
   "source": [
    "## 调用内置函数\n",
    "\n",
    "* `abs()`求绝对值函数\n",
    "* `max()`返回最大的那个参数\n",
    "* `int()`把其他数据类型转换为整数\n",
    "* `hex()`把一个整数转换成十六进制表示的字符串\n",
    "* `isinstance()`检查数据类型\n",
    "* `math.sqrt()`求平方根"
   ]
  },
  {
   "cell_type": "code",
   "execution_count": 38,
   "metadata": {},
   "outputs": [
    {
     "name": "stdout",
     "output_type": "stream",
     "text": [
      "notebook\n"
     ]
    }
   ],
   "source": [
    "def my_abs(x):\n",
    "    if not isinstance(x, (int, float)):\n",
    "        raise TypeError('bad operand type')\n",
    "    if x >= 0:\n",
    "        return x\n",
    "    else:\n",
    "        return -x\n",
    "\n",
    "print( my_abs('a') )"
   ]
  },
  {
   "cell_type": "code",
   "execution_count": 42,
   "metadata": {},
   "outputs": [
    {
     "name": "stdout",
     "output_type": "stream",
     "text": [
      "num\n",
      "num\n",
      "num\n",
      "str\n",
      "num\n",
      "str\n"
     ]
    }
   ],
   "source": [
    "a = [1, 4, 7, 'e', 2.3, 'g']\n",
    "\n",
    "for i in a :\n",
    "    if not isinstance(i, str):\n",
    "        print( 'num' )\n",
    "    else:\n",
    "        print( 'str' )"
   ]
  },
  {
   "cell_type": "code",
   "execution_count": null,
   "metadata": {},
   "outputs": [],
   "source": []
  },
  {
   "cell_type": "markdown",
   "metadata": {},
   "source": [
    "## 定义函数 \n",
    "\n",
    "* 定义一个函数要使用def语句，函数的返回值用return语句返回。\n",
    "* 如果没有`return`语句，函数执行完毕后也会返回结果，只是结果为`None`。\n",
    "* `pass`语句可以作为占位符，比如现在还没想好怎么写的代码，就先放一个pass，让代码能正常运行。\n",
    "* 如果函数返回多值其实就是返回一个tuple。也可以用多个变量同时接收一个tuple，按位置赋给对应的值。"
   ]
  },
  {
   "cell_type": "code",
   "execution_count": 35,
   "metadata": {},
   "outputs": [
    {
     "name": "stdout",
     "output_type": "stream",
     "text": [
      "None\n"
     ]
    }
   ],
   "source": [
    "#定义一个求绝对值的函数\n",
    "\n",
    "def my_abs(x):\n",
    "    if x >= 0:\n",
    "        return x\n",
    "    else:\n",
    "        return -x\n",
    "\n",
    "print( my_abs(-4) )"
   ]
  },
  {
   "cell_type": "code",
   "execution_count": 44,
   "metadata": {},
   "outputs": [
    {
     "name": "stdout",
     "output_type": "stream",
     "text": [
      "(1, 4, 9)\n",
      "1 4 9\n"
     ]
    }
   ],
   "source": [
    "def get(a,b,c):\n",
    "    d = a**2\n",
    "    e = b**2\n",
    "    f = c**2\n",
    "    return d,e,f\n",
    "\n",
    "print( get(1,2,3) )\n",
    "\n",
    "a1, b1, c1 = get(1,2,3)\n",
    "print( a1, b1, c1)"
   ]
  },
  {
   "cell_type": "markdown",
   "metadata": {},
   "source": [
    "### 函数的参数\n",
    "\n",
    "Python中定义函数，可以用必选参数、默认参数、可变参数、关键字参数和命名关键字参数<br>\n",
    "请注意，参数定义的顺序必须是：`必选参数`、`默认参数`、`可变参数`、`命名关键字参数`和`关键字参数`。\n",
    "\n",
    "* **必选参数**\n",
    "* **默认参数**，即 变量名 = ×××\n",
    "* **可变参数**，`*args`允许传入0个或任意个参数，这些可变参数在函数调用时自动组装为一个tuple\n",
    "* Python允许在list或tuple前面加一个`*`号，把list或tuple的元素变成可变参数\n",
    "* **关键字参数**，`**kw`允许传入0个或任意个含参数名的参数，这些关键字参数在函数内部自动组装为一个dict。\n",
    "* **命名关键字参数**, 只接收特定的关键字参数，可以给参数指定默认值。<br>\n",
    "  需要一个特殊分隔符`*`，`*`后面的参数被视为命名关键字参数。<br>\n",
    "  如果函数定义中已经有了一个可变参数，后面跟着的命名关键字参数就不再需要一个特殊分隔符`*`了."
   ]
  },
  {
   "cell_type": "code",
   "execution_count": 46,
   "metadata": {},
   "outputs": [
    {
     "name": "stdout",
     "output_type": "stream",
     "text": [
      "9\n",
      "27\n"
     ]
    }
   ],
   "source": [
    "#必选参数在前，默认参数在后\n",
    "\n",
    "def power(x, n=2):\n",
    "    s  = x**n\n",
    "    return s\n",
    "\n",
    "print( power(3) )\n",
    "print( power(3,3) )"
   ]
  },
  {
   "cell_type": "code",
   "execution_count": 49,
   "metadata": {},
   "outputs": [
    {
     "data": {
      "text/plain": [
       "14"
      ]
     },
     "execution_count": 49,
     "metadata": {},
     "output_type": "execute_result"
    }
   ],
   "source": [
    "#可变参数\n",
    "\n",
    "def calc(*numbers):\n",
    "    sum = 0\n",
    "    for n in numbers:\n",
    "        sum = sum + n * n\n",
    "    return sum\n",
    "\n",
    "\n",
    "#加星号*把list或tuple的元素变成可变参数\n",
    "nums = [1, 2, 3]\n",
    "calc(*nums)"
   ]
  },
  {
   "cell_type": "code",
   "execution_count": 51,
   "metadata": {},
   "outputs": [
    {
     "name": "stdout",
     "output_type": "stream",
     "text": [
      "name: Bob age: 25 other: {'gender': 'M', 'city': 'Beijing'}\n",
      "name: Jack age: 24 other: {'city': 'NYC', 'job': 'Engineer'}\n"
     ]
    }
   ],
   "source": [
    "#关键字函数\n",
    "def person(name, age, **kw):\n",
    "    print('name:', name, 'age:', age, 'other:', kw)\n",
    "    \n",
    "\n",
    "person('Bob', 25, gender='M', city='Beijing')\n",
    "\n",
    "extra = {'city': 'NYC', 'job': 'Engineer'}\n",
    "person('Jack', 24, **extra)"
   ]
  },
  {
   "cell_type": "code",
   "execution_count": 53,
   "metadata": {},
   "outputs": [
    {
     "ename": "TypeError",
     "evalue": "person() missing 1 required keyword-only argument: 'job'",
     "output_type": "error",
     "traceback": [
      "\u001b[0;31m---------------------------------------------------------------------------\u001b[0m",
      "\u001b[0;31mTypeError\u001b[0m                                 Traceback (most recent call last)",
      "\u001b[0;32m<ipython-input-53-26daf717f97f>\u001b[0m in \u001b[0;36m<module>\u001b[0;34m\u001b[0m\n\u001b[1;32m      3\u001b[0m     \u001b[0mprint\u001b[0m\u001b[0;34m(\u001b[0m\u001b[0mname\u001b[0m\u001b[0;34m,\u001b[0m \u001b[0mage\u001b[0m\u001b[0;34m,\u001b[0m \u001b[0mcity\u001b[0m\u001b[0;34m,\u001b[0m \u001b[0mjob\u001b[0m\u001b[0;34m)\u001b[0m\u001b[0;34m\u001b[0m\u001b[0;34m\u001b[0m\u001b[0m\n\u001b[1;32m      4\u001b[0m \u001b[0;34m\u001b[0m\u001b[0m\n\u001b[0;32m----> 5\u001b[0;31m \u001b[0mperson\u001b[0m\u001b[0;34m(\u001b[0m\u001b[0;34m'Jack'\u001b[0m\u001b[0;34m,\u001b[0m \u001b[0;36m24\u001b[0m\u001b[0;34m,\u001b[0m \u001b[0mcity\u001b[0m\u001b[0;34m=\u001b[0m\u001b[0;34m'Beijing'\u001b[0m\u001b[0;34m)\u001b[0m\u001b[0;34m\u001b[0m\u001b[0;34m\u001b[0m\u001b[0m\n\u001b[0m",
      "\u001b[0;31mTypeError\u001b[0m: person() missing 1 required keyword-only argument: 'job'"
     ]
    }
   ],
   "source": [
    "#命名关键字参数\n",
    "def person(name, age, *, city, job):\n",
    "    print(name, age, city, job)\n",
    "\n",
    "person('Jack', 24, city='Beijing', job='Engineer')"
   ]
  },
  {
   "cell_type": "code",
   "execution_count": 54,
   "metadata": {},
   "outputs": [
    {
     "ename": "TypeError",
     "evalue": "person() missing 2 required keyword-only arguments: 'city' and 'job'",
     "output_type": "error",
     "traceback": [
      "\u001b[0;31m---------------------------------------------------------------------------\u001b[0m",
      "\u001b[0;31mTypeError\u001b[0m                                 Traceback (most recent call last)",
      "\u001b[0;32m<ipython-input-54-ea7951f34bc8>\u001b[0m in \u001b[0;36m<module>\u001b[0;34m\u001b[0m\n\u001b[1;32m      2\u001b[0m     \u001b[0mprint\u001b[0m\u001b[0;34m(\u001b[0m\u001b[0mname\u001b[0m\u001b[0;34m,\u001b[0m \u001b[0mage\u001b[0m\u001b[0;34m,\u001b[0m \u001b[0margs\u001b[0m\u001b[0;34m,\u001b[0m \u001b[0mcity\u001b[0m\u001b[0;34m,\u001b[0m \u001b[0mjob\u001b[0m\u001b[0;34m)\u001b[0m\u001b[0;34m\u001b[0m\u001b[0;34m\u001b[0m\u001b[0m\n\u001b[1;32m      3\u001b[0m \u001b[0;34m\u001b[0m\u001b[0m\n\u001b[0;32m----> 4\u001b[0;31m \u001b[0mperson\u001b[0m\u001b[0;34m(\u001b[0m\u001b[0;34m'Jack'\u001b[0m\u001b[0;34m,\u001b[0m \u001b[0;36m24\u001b[0m\u001b[0;34m,\u001b[0m \u001b[0;34m'Beijing'\u001b[0m\u001b[0;34m,\u001b[0m \u001b[0;34m'Engineer'\u001b[0m\u001b[0;34m)\u001b[0m\u001b[0;34m\u001b[0m\u001b[0;34m\u001b[0m\u001b[0m\n\u001b[0m",
      "\u001b[0;31mTypeError\u001b[0m: person() missing 2 required keyword-only arguments: 'city' and 'job'"
     ]
    }
   ],
   "source": [
    "def person(name, age, *args, city, job):\n",
    "    print(name, age, args, city, job)\n",
    "\n",
    "person('Jack', 24, 'Beijing', 'Engineer')"
   ]
  },
  {
   "cell_type": "code",
   "execution_count": 55,
   "metadata": {},
   "outputs": [
    {
     "name": "stdout",
     "output_type": "stream",
     "text": [
      "Jack 24 Beijing Engineer\n"
     ]
    }
   ],
   "source": [
    "# 命名关键字参数具有默认值，则调用时，可不传入参数：\n",
    "def person(name, age, *, city='Beijing', job):\n",
    "    print(name, age, city, job)\n",
    "\n",
    "person('Jack', 24, job='Engineer')"
   ]
  },
  {
   "cell_type": "code",
   "execution_count": 56,
   "metadata": {},
   "outputs": [],
   "source": [
    "#综合参数\n",
    "\n",
    "def f1(a, b, c=0, *args, **kw):\n",
    "    print('a =', a, 'b =', b, 'c =', c, 'args =', args, 'kw =', kw)\n",
    "\n",
    "def f2(a, b, c=0, *, d, **kw):\n",
    "    print('a =', a, 'b =', b, 'c =', c, 'd =', d, 'kw =', kw)"
   ]
  },
  {
   "cell_type": "code",
   "execution_count": 59,
   "metadata": {},
   "outputs": [
    {
     "name": "stdout",
     "output_type": "stream",
     "text": [
      "a = 1 b = 2 c = 0 args = () kw = {}\n",
      "a = 1 b = 2 c = 3 args = () kw = {}\n",
      "a = 1 b = 2 c = 3 args = ('a', 'b') kw = {'x': 99}\n",
      "a = 1 b = 2 c = 0 d = 99 kw = {'ext': None}\n"
     ]
    }
   ],
   "source": [
    "f1(1, 2)\n",
    "f1(1, 2, c = 3)\n",
    "f1(1, 2, 3, 'a', 'b', x=99)\n",
    "\n",
    "f2(1, 2, d=99, ext=None)  "
   ]
  },
  {
   "cell_type": "markdown",
   "metadata": {},
   "source": [
    "## 递归函数\n",
    "\n",
    "如果一个函数在内部调用自身本身，这个函数就是递归函数。      \n",
    "在计算机中，函数调用是通过栈（stack）这种数据结构实现的。     \n",
    "解决递归调用栈溢出的方法是通过尾递归优化。 尾递归事实上和循环是等价的。       \n",
    "**尾递归**是指，在函数返回的时候，调用自身本身，并且，return语句不能包含表达式。"
   ]
  },
  {
   "cell_type": "code",
   "execution_count": 63,
   "metadata": {},
   "outputs": [
    {
     "data": {
      "text/plain": [
       "24"
      ]
     },
     "execution_count": 63,
     "metadata": {},
     "output_type": "execute_result"
    }
   ],
   "source": [
    "#计算阶乘\n",
    "def fact(n):\n",
    "    if n==1:\n",
    "        return 1\n",
    "    return n * fact(n - 1)\n",
    "\n",
    "fact(4)"
   ]
  },
  {
   "cell_type": "code",
   "execution_count": 64,
   "metadata": {},
   "outputs": [
    {
     "data": {
      "text/plain": [
       "120"
      ]
     },
     "execution_count": 64,
     "metadata": {},
     "output_type": "execute_result"
    }
   ],
   "source": [
    "#计算阶乘(尾递归)\n",
    "def fact(n):\n",
    "    return fact_iter(n, 1)\n",
    "\n",
    "def fact_iter(num, product):\n",
    "    if num == 1:\n",
    "        return product\n",
    "    return fact_iter(num - 1, num * product)\n",
    "\n",
    "fact(5)"
   ]
  },
  {
   "cell_type": "code",
   "execution_count": null,
   "metadata": {},
   "outputs": [],
   "source": []
  },
  {
   "cell_type": "markdown",
   "metadata": {},
   "source": [
    "# 高级特性\n",
    "## 切片\n",
    "\n",
    "列表，tuple，字符串都可以用切片操作"
   ]
  },
  {
   "cell_type": "code",
   "execution_count": 65,
   "metadata": {},
   "outputs": [
    {
     "name": "stdout",
     "output_type": "stream",
     "text": [
      "['B', 'J']\n",
      "['M', 'S', 'T']\n"
     ]
    }
   ],
   "source": [
    "L = ['M', 'S', 'T', 'B', 'J']\n",
    "\n",
    "print( L[-2:] )\n",
    "print( L[:3] )"
   ]
  },
  {
   "cell_type": "code",
   "execution_count": 66,
   "metadata": {},
   "outputs": [
    {
     "name": "stdout",
     "output_type": "stream",
     "text": [
      "[90, 91, 92, 93, 94, 95, 96, 97, 98, 99]\n",
      "[0, 2, 4, 6, 8]\n",
      "[0, 5, 10, 15, 20, 25, 30, 35, 40, 45, 50, 55, 60, 65, 70, 75, 80, 85, 90, 95]\n"
     ]
    }
   ],
   "source": [
    "L = list(range(100))\n",
    "\n",
    "print( L[-10:] )\n",
    "print( L[:10:2] )\n",
    "print( L[::5] )"
   ]
  },
  {
   "cell_type": "code",
   "execution_count": 68,
   "metadata": {},
   "outputs": [
    {
     "data": {
      "text/plain": [
       "'ABC'"
      ]
     },
     "execution_count": 68,
     "metadata": {},
     "output_type": "execute_result"
    }
   ],
   "source": [
    "'ABCDEFG'[::2]\n",
    "'ABCDEFG'[:3]"
   ]
  },
  {
   "cell_type": "markdown",
   "metadata": {},
   "source": [
    "## 迭代"
   ]
  },
  {
   "cell_type": "markdown",
   "metadata": {},
   "source": [
    "* 任何可迭代对象都可以作用于for循环\n",
    "* `str`, `list`, `dict`均可以迭代。      \n",
    "* `enumerate`函数可以把一个list变成索引-元素对，这样就可以在for循环中同时迭代索引和元素本身。"
   ]
  },
  {
   "cell_type": "code",
   "execution_count": 71,
   "metadata": {},
   "outputs": [
    {
     "data": {
      "text/plain": [
       "False"
      ]
     },
     "execution_count": 71,
     "metadata": {},
     "output_type": "execute_result"
    }
   ],
   "source": [
    "#判断一个对象是否是可迭代对象\n",
    "#通过collections模块的Iterable类型\n",
    "\n",
    "from collections import Iterable\n",
    "isinstance('abc', Iterable)\n",
    "isinstance(123, Iterable)"
   ]
  },
  {
   "cell_type": "code",
   "execution_count": 73,
   "metadata": {},
   "outputs": [
    {
     "name": "stdout",
     "output_type": "stream",
     "text": [
      "0 Joe\n",
      "1 Coco\n",
      "2 Ada\n"
     ]
    }
   ],
   "source": [
    "name = ['Joe','Coco','Ada']\n",
    "for i, j in enumerate(name):\n",
    "    print(i,j)"
   ]
  },
  {
   "cell_type": "markdown",
   "metadata": {},
   "source": [
    "## 列表生成器\n",
    "\n",
    "* 一个列表生成式中，for前面使用`if ... else`，for后面使用`if`"
   ]
  },
  {
   "cell_type": "code",
   "execution_count": 74,
   "metadata": {},
   "outputs": [
    {
     "data": {
      "text/plain": [
       "[1, 2, 3, 4, 5, 6, 7, 8, 9, 10]"
      ]
     },
     "execution_count": 74,
     "metadata": {},
     "output_type": "execute_result"
    }
   ],
   "source": [
    "list(range(1, 11))"
   ]
  },
  {
   "cell_type": "code",
   "execution_count": 75,
   "metadata": {},
   "outputs": [
    {
     "data": {
      "text/plain": [
       "[1, 4, 9, 16, 25, 36, 49, 64, 81, 100]"
      ]
     },
     "execution_count": 75,
     "metadata": {},
     "output_type": "execute_result"
    }
   ],
   "source": [
    "[x * x for x in range(1, 11)]"
   ]
  },
  {
   "cell_type": "code",
   "execution_count": 76,
   "metadata": {},
   "outputs": [
    {
     "data": {
      "text/plain": [
       "[4, 16, 36, 64, 100]"
      ]
     },
     "execution_count": 76,
     "metadata": {},
     "output_type": "execute_result"
    }
   ],
   "source": [
    "[x * x for x in range(1, 11) if x % 2 == 0]"
   ]
  },
  {
   "cell_type": "code",
   "execution_count": 78,
   "metadata": {},
   "outputs": [
    {
     "data": {
      "text/plain": [
       "['A1', 'A2', 'A3', 'B1', 'B2', 'B3', 'C1', 'C2', 'C3']"
      ]
     },
     "execution_count": 78,
     "metadata": {},
     "output_type": "execute_result"
    }
   ],
   "source": [
    "[m + n for m in 'ABC' for n in '123']"
   ]
  },
  {
   "cell_type": "code",
   "execution_count": 80,
   "metadata": {},
   "outputs": [
    {
     "data": {
      "text/plain": [
       "['200046 java从入门到精通.rar',\n",
       " '.DS_Store',\n",
       " 'Sample - Superstore.xls',\n",
       " '《疯狂Java讲义第4版》高清PDF+源代码+课件.rar',\n",
       " 'NLP.pdf',\n",
       " 'labuladong的算法小抄',\n",
       " 'python4everybody.pdf',\n",
       " 'take home challenge ',\n",
       " '书',\n",
       " 'MIT60001',\n",
       " '(CD)+理工素材挖掘问题文档.docx',\n",
       " 'duke_tableau',\n",
       " '学习打卡.xlsx',\n",
       " '.ipynb_checkpoints',\n",
       " 'Python爬虫总结.docx',\n",
       " '廖雪峰python.ipynb',\n",
       " 'java分开保存链接.txt']"
      ]
     },
     "execution_count": 80,
     "metadata": {},
     "output_type": "execute_result"
    }
   ],
   "source": [
    "#列出当前目录下的所有文件和目录名\n",
    "\n",
    "import os\n",
    "[d for d in os.listdir('.')] # os.listdir可以列出文件和目录"
   ]
  },
  {
   "cell_type": "code",
   "execution_count": 81,
   "metadata": {},
   "outputs": [
    {
     "data": {
      "text/plain": [
       "['hello', 'world', 'ibm', 'apple']"
      ]
     },
     "execution_count": 81,
     "metadata": {},
     "output_type": "execute_result"
    }
   ],
   "source": [
    "L = ['Hello', 'World', 'IBM', 'APPLE']\n",
    "[s.lower() for s in L]"
   ]
  },
  {
   "cell_type": "code",
   "execution_count": 82,
   "metadata": {},
   "outputs": [
    {
     "data": {
      "text/plain": [
       "[-1, 2, -3, 4, -5, 6, -7, 8, -9, 10]"
      ]
     },
     "execution_count": 82,
     "metadata": {},
     "output_type": "execute_result"
    }
   ],
   "source": [
    "#一个列表生成式中，for前面使用if ... else，for后面使用if\n",
    "[x if x % 2 == 0 else -x for x in range(1, 11)]"
   ]
  },
  {
   "cell_type": "code",
   "execution_count": 87,
   "metadata": {},
   "outputs": [
    {
     "data": {
      "text/plain": [
       "['hello', 'world', 'apple']"
      ]
     },
     "execution_count": 87,
     "metadata": {},
     "output_type": "execute_result"
    }
   ],
   "source": [
    "L1 = ['Hello', 'World', 18, 'Apple', None]\n",
    "[i.lower() for i in L1 if isinstance(i,str)]"
   ]
  },
  {
   "cell_type": "markdown",
   "metadata": {},
   "source": [
    "## 生成器\n",
    "\n",
    "* 只要把一个列表生成式的`[]`改成`()`，就创建了一个生成器generator\n",
    "* 可以通过`next()`函数获得generator的下一个返回值,直到最后抛出`StopIteration`错误\n",
    "* generator是可迭代对象\n",
    "* 如果一个函数定义中包含`yield`关键字，那么这个函数就是一个generator"
   ]
  },
  {
   "cell_type": "code",
   "execution_count": 105,
   "metadata": {},
   "outputs": [],
   "source": [
    "#L是个list，而g是个generator\n",
    "L = [x * x for x in range(10)]\n",
    "g = (x * x for x in range(10))"
   ]
  },
  {
   "cell_type": "code",
   "execution_count": 106,
   "metadata": {},
   "outputs": [
    {
     "name": "stdout",
     "output_type": "stream",
     "text": [
      "0\n",
      "1\n",
      "4\n",
      "9\n",
      "16\n",
      "25\n",
      "36\n",
      "49\n",
      "64\n",
      "81\n"
     ]
    }
   ],
   "source": [
    "#打印出生成器中的元素\n",
    "for n in g:\n",
    "    print(n)"
   ]
  },
  {
   "cell_type": "code",
   "execution_count": 107,
   "metadata": {},
   "outputs": [],
   "source": [
    "#生成斐波那契数列\n",
    "\n",
    "def fib(max):\n",
    "    n, a, b = 0, 0, 1\n",
    "    while n < max:\n",
    "        print(b)\n",
    "        a, b = b, a + b\n",
    "        n = n + 1\n",
    "    return 'done'"
   ]
  },
  {
   "cell_type": "markdown",
   "metadata": {},
   "source": [
    "## 迭代器\n",
    "* 凡是可作用于for循环的对象都是`Iterable`类型\n",
    "* 凡是可作用于next()函数的对象都是`Iterator`类型\n",
    "* list、dict、str等是`Iterable`但不是`Iterator`,不过可以用`iter()`函数获得一个`Iterator`对象\n"
   ]
  },
  {
   "cell_type": "markdown",
   "metadata": {},
   "source": [
    "# 函数式编程"
   ]
  },
  {
   "cell_type": "markdown",
   "metadata": {},
   "source": [
    "## 高阶函数\n",
    "* 函数本身也可以赋值给变量，即：变量可以指向函数。\n",
    "* 一个函数可以接收另一个函数作为参数，这种函数就称之为高阶函数\n"
   ]
  },
  {
   "cell_type": "code",
   "execution_count": 1,
   "metadata": {},
   "outputs": [
    {
     "data": {
      "text/plain": [
       "11"
      ]
     },
     "execution_count": 1,
     "metadata": {},
     "output_type": "execute_result"
    }
   ],
   "source": [
    "def add(x, y, f):\n",
    "    return f(x) + f(y)\n",
    "\n",
    "add(-5, 6, abs)"
   ]
  },
  {
   "cell_type": "markdown",
   "metadata": {},
   "source": [
    "## map/reduce\n",
    "* Python内建了`map()`和`reduce()`函数。\n",
    "* `map()函数`接收两个参数，一个是函数，一个是Iterable，把结果作为新的Iterator返回。\n",
    "* `reduce`把一个函数作用在一个序列`[x1, x2, x3, ...]`上，reduce把结果继续和序列的下一个元素做累积计算。    \n",
    "   reduce(f, [x1, x2, x3, x4]) = f( f( f(x1, x2), x3), x4)"
   ]
  },
  {
   "cell_type": "code",
   "execution_count": 4,
   "metadata": {},
   "outputs": [
    {
     "data": {
      "text/plain": [
       "[1, 4, 9, 16, 25, 36, 49, 64, 81]"
      ]
     },
     "execution_count": 4,
     "metadata": {},
     "output_type": "execute_result"
    }
   ],
   "source": [
    "def f(x):\n",
    "    return x * x\n",
    "\n",
    "r = map(f, [1, 2, 3, 4, 5, 6, 7, 8, 9])\n",
    "list(r)"
   ]
  },
  {
   "cell_type": "code",
   "execution_count": 5,
   "metadata": {},
   "outputs": [
    {
     "data": {
      "text/plain": [
       "['1', '2', '3', '4', '5', '6', '7', '8', '9']"
      ]
     },
     "execution_count": 5,
     "metadata": {},
     "output_type": "execute_result"
    }
   ],
   "source": [
    "list(map(str, [1, 2, 3, 4, 5, 6, 7, 8, 9]))"
   ]
  },
  {
   "cell_type": "code",
   "execution_count": 6,
   "metadata": {},
   "outputs": [
    {
     "data": {
      "text/plain": [
       "25"
      ]
     },
     "execution_count": 6,
     "metadata": {},
     "output_type": "execute_result"
    }
   ],
   "source": [
    "#对序列求和\n",
    "from functools import reduce\n",
    "\n",
    "def add(x, y):\n",
    "    return x + y\n",
    "\n",
    "reduce(add, [1, 3, 5, 7, 9])"
   ]
  },
  {
   "cell_type": "code",
   "execution_count": 11,
   "metadata": {},
   "outputs": [
    {
     "data": {
      "text/plain": [
       "14673244992"
      ]
     },
     "execution_count": 11,
     "metadata": {},
     "output_type": "execute_result"
    }
   ],
   "source": [
    "#把字符串转化为整数\n",
    "from functools import reduce\n",
    "\n",
    "DIGITS = {'0': 0, '1': 1, '2': 2, '3': 3, '4': 4, '5': 5, '6': 6, '7': 7, '8': 8, '9': 9}\n",
    "\n",
    "def char2num(s):\n",
    "    return DIGITS[s]\n",
    "\n",
    "def str2int(s):\n",
    "    return reduce(lambda x, y: x * 10 + y, map(char2num, s))\n",
    "\n",
    "str2int('14673244992')"
   ]
  },
  {
   "cell_type": "markdown",
   "metadata": {},
   "source": [
    "## filter函数\n",
    "* `filter()`函数用于过滤序列。\n",
    "* `filter()`也接收一个函数和一个序列, `filter()`把传入的函数依次作用于每个元素，根据返回值是True还是False决定保留或丢弃该元素。\n"
   ]
  },
  {
   "cell_type": "code",
   "execution_count": 12,
   "metadata": {},
   "outputs": [
    {
     "data": {
      "text/plain": [
       "[1, 5, 9, 15]"
      ]
     },
     "execution_count": 12,
     "metadata": {},
     "output_type": "execute_result"
    }
   ],
   "source": [
    "#只保留list中的奇数\n",
    "\n",
    "def is_odd(n):\n",
    "    return n % 2 == 1\n",
    "\n",
    "list(filter(is_odd, [1, 2, 4, 5, 6, 9, 10, 15]))"
   ]
  },
  {
   "cell_type": "code",
   "execution_count": null,
   "metadata": {},
   "outputs": [],
   "source": []
  },
  {
   "cell_type": "markdown",
   "metadata": {},
   "source": [
    "# 模块\n",
    "\n",
    "* 在Python中，一个.py文件就称之为一个模块（Module）"
   ]
  },
  {
   "cell_type": "markdown",
   "metadata": {},
   "source": [
    "# 面向对象编程"
   ]
  },
  {
   "cell_type": "markdown",
   "metadata": {},
   "source": [
    "## 类和实例"
   ]
  },
  {
   "cell_type": "markdown",
   "metadata": {},
   "source": [
    "* 类是抽象的模板，而实例是根据类创建出来的一个个具体的“对象”\n",
    "* Python中，定义类是通过`class`关键字\n",
    "* `class`后面紧接着是类名，类名通常是大写开头的单词，紧接着是(object)，表示该类是从哪个类继承下来的.     \n",
    "  通常，如果没有合适的继承类，就使用object类。\n",
    "* 创建实例是通过`类名+()`实现的"
   ]
  },
  {
   "cell_type": "code",
   "execution_count": 4,
   "metadata": {},
   "outputs": [],
   "source": [
    "#定义student类\n",
    "class Student(object):\n",
    "\n",
    "    def __init__(self, name, score):\n",
    "        self.name = name\n",
    "        self.score = score"
   ]
  },
  {
   "cell_type": "markdown",
   "metadata": {},
   "source": [
    "* 通过定义一个特殊的`__init__`方法，在创建实例的时候，可以把必须绑定的属性填写上去。\n",
    "* `__init__`方法的第一个参数永远是`self`，表示创建的实例本身。    \n",
    "* 有了`__init__`方法，在创建实例的时候，就必须传入与`__init__`方法匹配的参数，但self不需要传\n",
    "* 和普通的函数相比，在类中定义的函数只有一点不同，就是第一个参数永远是实例变量`self`\n",
    "* 在类中定义的参数仍然可以用默认参数、可变参数、关键字参数和命名关键字参数。"
   ]
  },
  {
   "cell_type": "code",
   "execution_count": null,
   "metadata": {},
   "outputs": [],
   "source": [
    "#创建实例，传入两个参数\n",
    "s1 = Student('Judy', 59)\n",
    "s1.score"
   ]
  },
  {
   "cell_type": "markdown",
   "metadata": {},
   "source": [
    "* 定义一个方法，除了第一个参数是self外，其他和普通函数一样。\n",
    "* 要调用一个方法，只需要在实例变量上直接调用，除了self不用传递，其他参数正常传入。"
   ]
  },
  {
   "cell_type": "code",
   "execution_count": 9,
   "metadata": {},
   "outputs": [],
   "source": [
    "#定义student类和get_grade()方法\n",
    "class Student(object):\n",
    "    def __init__(self, name, score):\n",
    "        self.name = name\n",
    "        self.score = score\n",
    "\n",
    "    def get_grade(self):\n",
    "        if self.score >= 90:\n",
    "            return 'A'\n",
    "        elif self.score >= 60:\n",
    "            return 'B'\n",
    "        else:\n",
    "            return 'C'"
   ]
  },
  {
   "cell_type": "code",
   "execution_count": 11,
   "metadata": {},
   "outputs": [
    {
     "name": "stdout",
     "output_type": "stream",
     "text": [
      "Lisa : A\n",
      "Bob : C\n"
     ]
    }
   ],
   "source": [
    "s1 = Student('Lisa', 99)\n",
    "s2 = Student('Bob', 59)\n",
    "print(s1.name,\":\", s1.get_grade())\n",
    "print(s2.name,\":\", s2.get_grade())"
   ]
  },
  {
   "cell_type": "markdown",
   "metadata": {},
   "source": [
    "## 访问限制"
   ]
  },
  {
   "cell_type": "markdown",
   "metadata": {},
   "source": [
    "* 如果要让class内部的属性不被外部访问，可以在属性的名称前加上两个下划线`__`\n",
    "* 在Python中，实例的变量名如果以`__`开头，就变成了一个私有变量（private），只有内部可以访问，外部不能访问\n",
    "* 需要注意的是，在Python中，变量名类似`__xxx__`的，也就是以双下划线开头，以双下划线结尾的，是特殊变量，特殊变量是   可以直接访问的，不是private变量。\n"
   ]
  },
  {
   "cell_type": "code",
   "execution_count": 14,
   "metadata": {},
   "outputs": [],
   "source": [
    "class Student(object):\n",
    "\n",
    "    def __init__(self, name, score):\n",
    "        self.__name = name\n",
    "        self.__score = score\n",
    "\n",
    "    def set_score(self, score):\n",
    "            if 0 <= score <= 100:\n",
    "                self.__score = score\n",
    "            else:\n",
    "                raise ValueError('bad score')"
   ]
  },
  {
   "cell_type": "markdown",
   "metadata": {},
   "source": [
    "## 继承和多态"
   ]
  },
  {
   "cell_type": "markdown",
   "metadata": {},
   "source": [
    "* 当定义一个class的时候，可以从某个现有的class继承，新的class称为`子类（Subclass）`，而被继承的class称为父类。\n",
    "* 继承最大的好处是子类获得了父类的全部功能。\n",
    "* 当子类和父类都存在相同的方法时，子类的方法覆盖了父类方法，在代码运行的时候，总是会调用子类的方法。\n",
    "---\n",
    "* 当我们定义一个class的时候，我们实际上就定义了一种数据类型。\n",
    "* 如果一个实例的数据类型是某个子类，那它的数据类型也可以被看做是父类。"
   ]
  },
  {
   "cell_type": "code",
   "execution_count": 15,
   "metadata": {},
   "outputs": [
    {
     "name": "stdout",
     "output_type": "stream",
     "text": [
      "Animal is running...\n"
     ]
    }
   ],
   "source": [
    "#父类Animal和子类Dog\n",
    "\n",
    "class Animal(object):\n",
    "    def run(self):\n",
    "        print('Animal is running...')\n",
    "\n",
    "class Dog(Animal):\n",
    "    pass\n",
    "\n",
    "\n",
    "dog = Dog()\n",
    "dog.run()"
   ]
  },
  {
   "cell_type": "code",
   "execution_count": 16,
   "metadata": {},
   "outputs": [
    {
     "name": "stdout",
     "output_type": "stream",
     "text": [
      "Dog is running...\n"
     ]
    }
   ],
   "source": [
    "#子类的方法覆盖父类\n",
    "\n",
    "class Animal(object):\n",
    "    def run(self):\n",
    "        print('Animal is running...')\n",
    "\n",
    "class Dog(Animal):\n",
    "\n",
    "    def run(self):\n",
    "        print('Dog is running...')   \n",
    "        \n",
    "\n",
    "dog = Dog()\n",
    "dog.run()"
   ]
  },
  {
   "cell_type": "markdown",
   "metadata": {},
   "source": [
    "## 对象信息\n",
    "* 使用`type()`函数来判断对象类型,返回对应的Class类型\n",
    "* 要判断class的类型，可以使用`isinstance()`函数。\n",
    "* 能用type()判断的基本类型也可以用isinstance()判断，优先使用`isinstance()`判断类型\n",
    "* 使用dir()函数获得一个对象的所有属性和方法，它返回一个list\n",
    "\n"
   ]
  },
  {
   "cell_type": "code",
   "execution_count": 18,
   "metadata": {},
   "outputs": [
    {
     "data": {
      "text/plain": [
       "True"
      ]
     },
     "execution_count": 18,
     "metadata": {},
     "output_type": "execute_result"
    }
   ],
   "source": [
    "type('abc') == str"
   ]
  },
  {
   "cell_type": "code",
   "execution_count": 20,
   "metadata": {},
   "outputs": [],
   "source": [
    "class Animal(object):\n",
    "    def run(self):\n",
    "        print('Animal is running...')\n",
    "\n",
    "class Dog(Animal):\n",
    "    pass\n",
    "\n",
    "class Husky(Dog):\n",
    "    pass\n",
    "\n",
    "\n",
    "\n",
    "a = Animal()\n",
    "d = Dog()\n",
    "h = Husky()\n",
    "\n",
    "isinstance(h, Husky)\n",
    "isinstance(h, Dog)\n",
    "isinstance(h, Animal)"
   ]
  },
  {
   "cell_type": "code",
   "execution_count": 24,
   "metadata": {},
   "outputs": [
    {
     "data": {
      "text/plain": [
       "False"
      ]
     },
     "execution_count": 24,
     "metadata": {},
     "output_type": "execute_result"
    }
   ],
   "source": [
    "isinstance(123, int)\n",
    "isinstance('a', str)\n",
    "\n",
    "#判断一个变量是否是某些类型中的一种\n",
    "isinstance([1, 2, 3], (list, tuple))\n",
    "isinstance([1, 2, 3], (dict, tuple))"
   ]
  },
  {
   "cell_type": "markdown",
   "metadata": {},
   "source": [
    "## 面向对象高级编程"
   ]
  },
  {
   "cell_type": "markdown",
   "metadata": {},
   "source": [
    "## 错误、调试和测试"
   ]
  },
  {
   "cell_type": "code",
   "execution_count": null,
   "metadata": {},
   "outputs": [],
   "source": []
  },
  {
   "cell_type": "code",
   "execution_count": null,
   "metadata": {},
   "outputs": [],
   "source": []
  },
  {
   "cell_type": "code",
   "execution_count": null,
   "metadata": {},
   "outputs": [],
   "source": []
  },
  {
   "cell_type": "code",
   "execution_count": null,
   "metadata": {},
   "outputs": [],
   "source": []
  },
  {
   "cell_type": "code",
   "execution_count": null,
   "metadata": {},
   "outputs": [],
   "source": []
  },
  {
   "cell_type": "code",
   "execution_count": null,
   "metadata": {},
   "outputs": [],
   "source": []
  },
  {
   "cell_type": "code",
   "execution_count": null,
   "metadata": {},
   "outputs": [],
   "source": []
  },
  {
   "cell_type": "code",
   "execution_count": null,
   "metadata": {},
   "outputs": [],
   "source": []
  },
  {
   "cell_type": "code",
   "execution_count": null,
   "metadata": {},
   "outputs": [],
   "source": []
  },
  {
   "cell_type": "code",
   "execution_count": null,
   "metadata": {},
   "outputs": [],
   "source": []
  },
  {
   "cell_type": "code",
   "execution_count": null,
   "metadata": {},
   "outputs": [],
   "source": []
  },
  {
   "cell_type": "code",
   "execution_count": null,
   "metadata": {},
   "outputs": [],
   "source": []
  },
  {
   "cell_type": "code",
   "execution_count": null,
   "metadata": {},
   "outputs": [],
   "source": []
  },
  {
   "cell_type": "code",
   "execution_count": null,
   "metadata": {},
   "outputs": [],
   "source": []
  },
  {
   "cell_type": "code",
   "execution_count": null,
   "metadata": {},
   "outputs": [],
   "source": []
  }
 ],
 "metadata": {
  "hide_input": false,
  "kernelspec": {
   "display_name": "Python 3",
   "language": "python",
   "name": "python3"
  },
  "language_info": {
   "codemirror_mode": {
    "name": "ipython",
    "version": 3
   },
   "file_extension": ".py",
   "mimetype": "text/x-python",
   "name": "python",
   "nbconvert_exporter": "python",
   "pygments_lexer": "ipython3",
   "version": "3.8.5"
  },
  "toc": {
   "base_numbering": 1,
   "nav_menu": {},
   "number_sections": true,
   "sideBar": true,
   "skip_h1_title": false,
   "title_cell": "Table of Contents",
   "title_sidebar": "Contents",
   "toc_cell": false,
   "toc_position": {
    "height": "calc(100% - 180px)",
    "left": "10px",
    "top": "150px",
    "width": "268px"
   },
   "toc_section_display": true,
   "toc_window_display": false
  }
 },
 "nbformat": 4,
 "nbformat_minor": 4
}
